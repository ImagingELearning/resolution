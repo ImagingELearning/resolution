{
 "cells": [
  {
   "cell_type": "markdown",
   "id": "2346ac04",
   "metadata": {},
   "source": [
    "# Measuring the resolution in an image\n",
    "Anders Kaestner, Laboratory for Neutron Scattering and Imaging, Paul Scherrer Institut, 2022\n",
    "\n",
    "<img src='../00_common/figures/by-nc-nd.svg' style='height:30px'/>"
   ]
  },
  {
   "cell_type": "markdown",
   "id": "3469ccb3",
   "metadata": {},
   "source": [
    "## Introduction\n",
    "The resolution tells the highest spatial frequency you can unambiguously observe in the image. It has an upper limit set by the sampling frequency, but is mostly less. Lower spatial frequencies appear as smooth edges in the image. \n",
    "\n",
    "The resolution is a consequence of a series of optical components in your imaging system (penumbra blurring, scintillator, lens, and camera) it could in principle also involve the effect of filtering you applied to the image.\n",
    "\n",
    "$$h_{system} = h_{penumbra} * h_{scintillator} * h_{lens} * h_{camera} * h_{filters}$$"
   ]
  },
  {
   "cell_type": "markdown",
   "id": "9e1a954c",
   "metadata": {},
   "source": [
    "### What you will learn in this tutorial"
   ]
  },
  {
   "cell_type": "markdown",
   "id": "1ede5cf3",
   "metadata": {},
   "source": [
    "### Needed mathematical concepts\n",
    "- Convolution \n",
    "- Fourier transform\n",
    "- Curve fitting\n",
    "- Interpolation"
   ]
  },
  {
   "cell_type": "code",
   "execution_count": null,
   "id": "352473e2",
   "metadata": {},
   "outputs": [],
   "source": [
    "import numpy as np\n",
    "import matplotlib.pyplot as plt\n",
    "import astropy.io.fits as fits\n",
    "import tifffile as tiff\n",
    "import matplotlib.patches as mpatches\n",
    "import skimage.filters as flt\n",
    "import sys\n",
    "sys.path.append('../00_common/')\n",
    "import resolutiontools as res"
   ]
  },
  {
   "cell_type": "markdown",
   "id": "ecb3318c",
   "metadata": {
    "hide_input": false
   },
   "source": [
    "## The principle to measuring the resolution\n",
    "The resolution can be measured using two main methods\n",
    "- Using test patterns representing discrete resolutions\n",
    "- Measuring the width intensity spread from an absorbing edge\n",
    "\n",
    "<figure>"
   ]
  },
  {
   "cell_type": "code",
   "execution_count": null,
   "id": "28be1b01",
   "metadata": {
    "hide_input": true
   },
   "outputs": [],
   "source": [
    "fig,ax = plt.subplots(1,2,figsize=(12,5))\n",
    "img1 = tiff.imread('../00_common/data/edges/edge20mm_0000.tif')\n",
    "\n",
    "idx_edge    = 1\n",
    "idx_pattern = 0\n",
    "ax[idx_edge].imshow(img1,vmin=300,vmax=30000,cmap='gray');\n",
    "ax[idx_edge].set_xlabel('x [pixels]')\n",
    "ax[idx_edge].set_ylabel('y [pixels]');\n",
    "rect=mpatches.Rectangle((20,200),100,100,fc='r',ec='r',alpha=0.3)\n",
    "ax[idx_edge].add_patch(rect)\n",
    "\n",
    "img2 = fits.getdata('data/focus_34mm_60s.fits')\n",
    "ax[idx_pattern].imshow(img2,vmin=800,vmax=10000,cmap='gray')\n",
    "ax[idx_pattern].set_title('The PSI test pattern')\n",
    "bbox_props = dict(boxstyle=\"round\", fc=\"y\", ec=\"0.5\", alpha=1.0)\n",
    "ax[idx_pattern].text(1150,1100, \"1\", ha=\"center\", va=\"center\", size=14,\n",
    "        bbox=bbox_props)\n",
    "ax[idx_pattern].text(1150,1500, \"2\", ha=\"center\", va=\"center\", size=14,\n",
    "        bbox=bbox_props)\n",
    "ax[idx_pattern].text(1750,950, \"2\", ha=\"center\", va=\"center\", size=14,\n",
    "        bbox=bbox_props)\n",
    "ax[idx_pattern].text(1150,250, \"3\", ha=\"center\", va=\"center\", size=14,\n",
    "        bbox=bbox_props)\n",
    "ax[idx_pattern].set_xlabel('x [pixels]')\n",
    "ax[idx_pattern].set_ylabel('y [pixels]');\n",
    "\n",
    "fontsize=14\n",
    "labelposition= -0.15\n",
    "# Set label for panel 1 -> (a)\n",
    "ax[0].text(0.5, labelposition, '(a)', transform=ax[0].transAxes, fontsize=fontsize, ha='center',va='center')  \n",
    "\n",
    "\n",
    "# Set label for panel 2 -> (b)\n",
    "ax[1].text(0.5, labelposition, '(b)', transform=ax[1].transAxes, fontsize=fontsize, ha='center',va='center') ; "
   ]
  },
  {
   "cell_type": "markdown",
   "id": "0669d410",
   "metadata": {
    "hide_input": false
   },
   "source": [
    "<figcaption align = \"center\"><b>Figure 1</b> - Items to measure the resolution; (a) a printed test pattern and (b) knife edge made of gadolinum (for neutrons)</figcaption>\n",
    "</figure>\n",
    "\n",
    "Figure 1 shows two devices that can be used to measure the resolution. Panel (a) shows a segment of a test pattern device with different features to measure the resolution. \n",
    "1. Siemens star. The spatial frequeny of the spokes in decrease as function of the radius. \n",
    "2. Line patterns. Blocks of parallel line with given spatial frequency.\n",
    "3. Straight absorbing edges.\n",
    "\n",
    "The item in panel (b) is an absorbing item with straight edges."
   ]
  },
  {
   "cell_type": "markdown",
   "id": "21ec1a58",
   "metadata": {},
   "source": [
    "## Measuring the resolution using test patterns\n",
    "\n",
    "The test pattern method is limited to the spatial frequencies avaliable in the test pattern."
   ]
  },
  {
   "cell_type": "markdown",
   "id": "b8f600e5",
   "metadata": {},
   "source": [
    "## Measuring the resolution using edge spread\n",
    "The method of measuring resolution using is based on the extracting the intensity profile across a high contrast sharp edge. The ideal material to produce such an edge in neutron imaging is gadolinium that thanks to its high attenuation coefficient allows to use a thin sheet. The reason for using a thin sheet is that it can lead to errors in the measurement in case the test object is not perfectly perpendicular to the beam. A deviation will add unsharpnes to the measurement due to different material thicknesses as shown in the figure below.\n",
    "\n",
    "<br/>\n",
    "<figure>\n",
    "<img src=\"figures/materialthickness.svg\" style=\"width:400px\"/>\n",
    "<br/>  \n",
    "<figcaption align = \"center\"><b>Figure 2</b> - Edge response with different material thickness may bias the resolution measurements.</figcaption>\n",
    "</figure>    \n",
    "<br/>\n",
    "\n",
    "The test object should also be slightly rotated (3-6$^{\\circ}$) in the image plane to provide a slanted edge to allow better edge sampling. The figure below shows the profiles across different positions along the edge. Here, you can see that the shape varies slightly depending on where the profile is extracted.\n",
    "\n",
    "<figure>"
   ]
  },
  {
   "cell_type": "code",
   "execution_count": null,
   "id": "ccb3392c",
   "metadata": {
    "hide_input": true,
    "scrolled": true
   },
   "outputs": [],
   "source": [
    "x,y = np.meshgrid(np.linspace(-10,10,201),np.linspace(-10,10,201))\n",
    "def sigm(x,s) :\n",
    "    return 1/(1+np.exp(-x/s))\n",
    "\n",
    "e = sigm(x+0.0834*y,0.08)\n",
    "de = np.diff(e)\n",
    "fig, ax = plt.subplots(1,3,figsize=(15,4))\n",
    "ax[0].imshow(e,cmap='gray')\n",
    "ax[0].set_title('Projection of an edge')\n",
    "ax[1].imshow(de)\n",
    "ax[1].set_title('Derivative of the edge')\n",
    "begin=80\n",
    "end=120\n",
    "alpha=1\n",
    "a = 33\n",
    "b = 100\n",
    "c = 185\n",
    "\n",
    "ax[1].hlines([a,b,c],xmin=begin,xmax=end,color='red')\n",
    "bbox_props = dict(boxstyle=\"round\", fc=\"y\", ec=\"0.5\", alpha=1.0)\n",
    "ax[1].text(end+20,a, \"A\", ha=\"center\", va=\"center\", size=14,\n",
    "        bbox=bbox_props)\n",
    "ax[1].text(end+20,b, \"B\", ha=\"center\", va=\"center\", size=14,\n",
    "        bbox=bbox_props)\n",
    "ax[1].text(end+20,c, \"C\", ha=\"center\", va=\"center\", size=14,\n",
    "        bbox=bbox_props)\n",
    "\n",
    "pA = de[a, begin:end]\n",
    "pB = de[b,begin:end]\n",
    "pC = de[c,begin:end]\n",
    "\n",
    "\n",
    "ax[2].stairs(pA,label='A',alpha=alpha)\n",
    "ax[2].stairs(pB,label='B',alpha=alpha)\n",
    "ax[2].stairs(pC,label='C',alpha=alpha)\n",
    "ax[2].legend()\n",
    "ax[2].set_title('Profiles at different edge positions');"
   ]
  },
  {
   "cell_type": "markdown",
   "id": "dca2cae2",
   "metadata": {},
   "source": [
    "<figcaption align = \"center\"><b>Figure 3</b> - An edge and its profiles. The profile shape varies with the position.</figcaption>\n",
    "</figure>"
   ]
  },
  {
   "cell_type": "markdown",
   "id": "789f19d3",
   "metadata": {},
   "source": [
    "### Extracting the edge profile\n",
    "We need to sample several positions along the edge to take advantage of the slanted edge and even achive subpixel accuracy. This must be done carefully using the distance to the edge. There are different methods to do the edge extraction. Among others thresholding and using the distance transform. Here, we will use the method described in the pixel size tutorial to fit a straight line to the edge and compute the average intensity at each distance from the edge."
   ]
  },
  {
   "cell_type": "code",
   "execution_count": null,
   "id": "6876c30a",
   "metadata": {},
   "outputs": [],
   "source": [
    "res."
   ]
  },
  {
   "cell_type": "markdown",
   "id": "e4d49001",
   "metadata": {
    "hide_input": true
   },
   "source": [
    "## Summary"
   ]
  },
  {
   "cell_type": "code",
   "execution_count": null,
   "id": "f90fd04d",
   "metadata": {},
   "outputs": [],
   "source": []
  }
 ],
 "metadata": {
  "kernelspec": {
   "display_name": "Python 3 (ipykernel)",
   "language": "python",
   "name": "python3"
  },
  "language_info": {
   "codemirror_mode": {
    "name": "ipython",
    "version": 3
   },
   "file_extension": ".py",
   "mimetype": "text/x-python",
   "name": "python",
   "nbconvert_exporter": "python",
   "pygments_lexer": "ipython3",
   "version": "3.9.13"
  }
 },
 "nbformat": 4,
 "nbformat_minor": 5
}
